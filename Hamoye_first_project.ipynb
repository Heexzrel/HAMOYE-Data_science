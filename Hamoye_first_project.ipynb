{
  "nbformat": 4,
  "nbformat_minor": 0,
  "metadata": {
    "colab": {
      "provenance": []
    },
    "kernelspec": {
      "name": "python3",
      "display_name": "Python 3"
    },
    "language_info": {
      "name": "python"
    }
  },
  "cells": [
    {
      "cell_type": "code",
      "execution_count": 89,
      "metadata": {
        "id": "pcvBxyn5I_HT"
      },
      "outputs": [],
      "source": [
        "import pandas as pd\n",
        "import numpy as np\n"
      ]
    },
    {
      "cell_type": "code",
      "source": [
        "NOFLAG_Africa = pd.read_csv('https://github.com/HamoyeHQ/HDSC-Introduction-to-Python-for-machine-learning/files/7768140/FoodBalanceSheets_E_Africa_NOFLAG.csv', encoding=\"latin-1\")\n"
      ],
      "metadata": {
        "id": "oSvfHQoMLGuX"
      },
      "execution_count": 21,
      "outputs": []
    },
    {
      "cell_type": "code",
      "source": [
        "NOFLAG_Africa"
      ],
      "metadata": {
        "colab": {
          "base_uri": "https://localhost:8080/",
          "height": 476
        },
        "id": "UGRYZEThPFeq",
        "outputId": "6e9582e5-7f92-4bb2-bd18-9587cc49c30d"
      },
      "execution_count": 22,
      "outputs": [
        {
          "output_type": "execute_result",
          "data": {
            "text/plain": [
              "       Area Code      Area  Item Code           Item  Element Code  \\\n",
              "0              4   Algeria       2501     Population           511   \n",
              "1              4   Algeria       2501     Population          5301   \n",
              "2              4   Algeria       2901    Grand Total           664   \n",
              "3              4   Algeria       2901    Grand Total           674   \n",
              "4              4   Algeria       2901    Grand Total           684   \n",
              "...          ...       ...        ...            ...           ...   \n",
              "60938        181  Zimbabwe       2899  Miscellaneous          5142   \n",
              "60939        181  Zimbabwe       2899  Miscellaneous           645   \n",
              "60940        181  Zimbabwe       2899  Miscellaneous           664   \n",
              "60941        181  Zimbabwe       2899  Miscellaneous           674   \n",
              "60942        181  Zimbabwe       2899  Miscellaneous           684   \n",
              "\n",
              "                                      Element             Unit     Y2014  \\\n",
              "0               Total Population - Both sexes     1000 persons  38924.00   \n",
              "1                    Domestic supply quantity      1000 tonnes      0.00   \n",
              "2               Food supply (kcal/capita/day)  kcal/capita/day   3377.00   \n",
              "3      Protein supply quantity (g/capita/day)     g/capita/day     94.90   \n",
              "4          Fat supply quantity (g/capita/day)     g/capita/day     80.06   \n",
              "...                                       ...              ...       ...   \n",
              "60938                                    Food      1000 tonnes     42.00   \n",
              "60939     Food supply quantity (kg/capita/yr)               kg      3.06   \n",
              "60940           Food supply (kcal/capita/day)  kcal/capita/day      3.00   \n",
              "60941  Protein supply quantity (g/capita/day)     g/capita/day      0.10   \n",
              "60942      Fat supply quantity (g/capita/day)     g/capita/day      0.04   \n",
              "\n",
              "          Y2015     Y2016     Y2017     Y2018  \n",
              "0      39728.00  40551.00  41389.00  42228.00  \n",
              "1          0.00      0.00      0.00      0.00  \n",
              "2       3379.00   3372.00   3341.00   3322.00  \n",
              "3         94.35     94.72     92.82     91.83  \n",
              "4         79.36     77.40     80.19     77.28  \n",
              "...         ...       ...       ...       ...  \n",
              "60938     46.00     33.00     19.00     16.00  \n",
              "60939      3.33      2.35      1.33      1.08  \n",
              "60940      4.00      3.00      1.00      1.00  \n",
              "60941      0.11      0.08      0.04      0.04  \n",
              "60942      0.05      0.03      0.02      0.01  \n",
              "\n",
              "[60943 rows x 12 columns]"
            ],
            "text/html": [
              "\n",
              "  <div id=\"df-50fd4eb0-2d5c-46d3-b1dc-d706e7605c21\" class=\"colab-df-container\">\n",
              "    <div>\n",
              "<style scoped>\n",
              "    .dataframe tbody tr th:only-of-type {\n",
              "        vertical-align: middle;\n",
              "    }\n",
              "\n",
              "    .dataframe tbody tr th {\n",
              "        vertical-align: top;\n",
              "    }\n",
              "\n",
              "    .dataframe thead th {\n",
              "        text-align: right;\n",
              "    }\n",
              "</style>\n",
              "<table border=\"1\" class=\"dataframe\">\n",
              "  <thead>\n",
              "    <tr style=\"text-align: right;\">\n",
              "      <th></th>\n",
              "      <th>Area Code</th>\n",
              "      <th>Area</th>\n",
              "      <th>Item Code</th>\n",
              "      <th>Item</th>\n",
              "      <th>Element Code</th>\n",
              "      <th>Element</th>\n",
              "      <th>Unit</th>\n",
              "      <th>Y2014</th>\n",
              "      <th>Y2015</th>\n",
              "      <th>Y2016</th>\n",
              "      <th>Y2017</th>\n",
              "      <th>Y2018</th>\n",
              "    </tr>\n",
              "  </thead>\n",
              "  <tbody>\n",
              "    <tr>\n",
              "      <th>0</th>\n",
              "      <td>4</td>\n",
              "      <td>Algeria</td>\n",
              "      <td>2501</td>\n",
              "      <td>Population</td>\n",
              "      <td>511</td>\n",
              "      <td>Total Population - Both sexes</td>\n",
              "      <td>1000 persons</td>\n",
              "      <td>38924.00</td>\n",
              "      <td>39728.00</td>\n",
              "      <td>40551.00</td>\n",
              "      <td>41389.00</td>\n",
              "      <td>42228.00</td>\n",
              "    </tr>\n",
              "    <tr>\n",
              "      <th>1</th>\n",
              "      <td>4</td>\n",
              "      <td>Algeria</td>\n",
              "      <td>2501</td>\n",
              "      <td>Population</td>\n",
              "      <td>5301</td>\n",
              "      <td>Domestic supply quantity</td>\n",
              "      <td>1000 tonnes</td>\n",
              "      <td>0.00</td>\n",
              "      <td>0.00</td>\n",
              "      <td>0.00</td>\n",
              "      <td>0.00</td>\n",
              "      <td>0.00</td>\n",
              "    </tr>\n",
              "    <tr>\n",
              "      <th>2</th>\n",
              "      <td>4</td>\n",
              "      <td>Algeria</td>\n",
              "      <td>2901</td>\n",
              "      <td>Grand Total</td>\n",
              "      <td>664</td>\n",
              "      <td>Food supply (kcal/capita/day)</td>\n",
              "      <td>kcal/capita/day</td>\n",
              "      <td>3377.00</td>\n",
              "      <td>3379.00</td>\n",
              "      <td>3372.00</td>\n",
              "      <td>3341.00</td>\n",
              "      <td>3322.00</td>\n",
              "    </tr>\n",
              "    <tr>\n",
              "      <th>3</th>\n",
              "      <td>4</td>\n",
              "      <td>Algeria</td>\n",
              "      <td>2901</td>\n",
              "      <td>Grand Total</td>\n",
              "      <td>674</td>\n",
              "      <td>Protein supply quantity (g/capita/day)</td>\n",
              "      <td>g/capita/day</td>\n",
              "      <td>94.90</td>\n",
              "      <td>94.35</td>\n",
              "      <td>94.72</td>\n",
              "      <td>92.82</td>\n",
              "      <td>91.83</td>\n",
              "    </tr>\n",
              "    <tr>\n",
              "      <th>4</th>\n",
              "      <td>4</td>\n",
              "      <td>Algeria</td>\n",
              "      <td>2901</td>\n",
              "      <td>Grand Total</td>\n",
              "      <td>684</td>\n",
              "      <td>Fat supply quantity (g/capita/day)</td>\n",
              "      <td>g/capita/day</td>\n",
              "      <td>80.06</td>\n",
              "      <td>79.36</td>\n",
              "      <td>77.40</td>\n",
              "      <td>80.19</td>\n",
              "      <td>77.28</td>\n",
              "    </tr>\n",
              "    <tr>\n",
              "      <th>...</th>\n",
              "      <td>...</td>\n",
              "      <td>...</td>\n",
              "      <td>...</td>\n",
              "      <td>...</td>\n",
              "      <td>...</td>\n",
              "      <td>...</td>\n",
              "      <td>...</td>\n",
              "      <td>...</td>\n",
              "      <td>...</td>\n",
              "      <td>...</td>\n",
              "      <td>...</td>\n",
              "      <td>...</td>\n",
              "    </tr>\n",
              "    <tr>\n",
              "      <th>60938</th>\n",
              "      <td>181</td>\n",
              "      <td>Zimbabwe</td>\n",
              "      <td>2899</td>\n",
              "      <td>Miscellaneous</td>\n",
              "      <td>5142</td>\n",
              "      <td>Food</td>\n",
              "      <td>1000 tonnes</td>\n",
              "      <td>42.00</td>\n",
              "      <td>46.00</td>\n",
              "      <td>33.00</td>\n",
              "      <td>19.00</td>\n",
              "      <td>16.00</td>\n",
              "    </tr>\n",
              "    <tr>\n",
              "      <th>60939</th>\n",
              "      <td>181</td>\n",
              "      <td>Zimbabwe</td>\n",
              "      <td>2899</td>\n",
              "      <td>Miscellaneous</td>\n",
              "      <td>645</td>\n",
              "      <td>Food supply quantity (kg/capita/yr)</td>\n",
              "      <td>kg</td>\n",
              "      <td>3.06</td>\n",
              "      <td>3.33</td>\n",
              "      <td>2.35</td>\n",
              "      <td>1.33</td>\n",
              "      <td>1.08</td>\n",
              "    </tr>\n",
              "    <tr>\n",
              "      <th>60940</th>\n",
              "      <td>181</td>\n",
              "      <td>Zimbabwe</td>\n",
              "      <td>2899</td>\n",
              "      <td>Miscellaneous</td>\n",
              "      <td>664</td>\n",
              "      <td>Food supply (kcal/capita/day)</td>\n",
              "      <td>kcal/capita/day</td>\n",
              "      <td>3.00</td>\n",
              "      <td>4.00</td>\n",
              "      <td>3.00</td>\n",
              "      <td>1.00</td>\n",
              "      <td>1.00</td>\n",
              "    </tr>\n",
              "    <tr>\n",
              "      <th>60941</th>\n",
              "      <td>181</td>\n",
              "      <td>Zimbabwe</td>\n",
              "      <td>2899</td>\n",
              "      <td>Miscellaneous</td>\n",
              "      <td>674</td>\n",
              "      <td>Protein supply quantity (g/capita/day)</td>\n",
              "      <td>g/capita/day</td>\n",
              "      <td>0.10</td>\n",
              "      <td>0.11</td>\n",
              "      <td>0.08</td>\n",
              "      <td>0.04</td>\n",
              "      <td>0.04</td>\n",
              "    </tr>\n",
              "    <tr>\n",
              "      <th>60942</th>\n",
              "      <td>181</td>\n",
              "      <td>Zimbabwe</td>\n",
              "      <td>2899</td>\n",
              "      <td>Miscellaneous</td>\n",
              "      <td>684</td>\n",
              "      <td>Fat supply quantity (g/capita/day)</td>\n",
              "      <td>g/capita/day</td>\n",
              "      <td>0.04</td>\n",
              "      <td>0.05</td>\n",
              "      <td>0.03</td>\n",
              "      <td>0.02</td>\n",
              "      <td>0.01</td>\n",
              "    </tr>\n",
              "  </tbody>\n",
              "</table>\n",
              "<p>60943 rows × 12 columns</p>\n",
              "</div>\n",
              "    <div class=\"colab-df-buttons\">\n",
              "\n",
              "  <div class=\"colab-df-container\">\n",
              "    <button class=\"colab-df-convert\" onclick=\"convertToInteractive('df-50fd4eb0-2d5c-46d3-b1dc-d706e7605c21')\"\n",
              "            title=\"Convert this dataframe to an interactive table.\"\n",
              "            style=\"display:none;\">\n",
              "\n",
              "  <svg xmlns=\"http://www.w3.org/2000/svg\" height=\"24px\" viewBox=\"0 -960 960 960\">\n",
              "    <path d=\"M120-120v-720h720v720H120Zm60-500h600v-160H180v160Zm220 220h160v-160H400v160Zm0 220h160v-160H400v160ZM180-400h160v-160H180v160Zm440 0h160v-160H620v160ZM180-180h160v-160H180v160Zm440 0h160v-160H620v160Z\"/>\n",
              "  </svg>\n",
              "    </button>\n",
              "\n",
              "  <style>\n",
              "    .colab-df-container {\n",
              "      display:flex;\n",
              "      gap: 12px;\n",
              "    }\n",
              "\n",
              "    .colab-df-convert {\n",
              "      background-color: #E8F0FE;\n",
              "      border: none;\n",
              "      border-radius: 50%;\n",
              "      cursor: pointer;\n",
              "      display: none;\n",
              "      fill: #1967D2;\n",
              "      height: 32px;\n",
              "      padding: 0 0 0 0;\n",
              "      width: 32px;\n",
              "    }\n",
              "\n",
              "    .colab-df-convert:hover {\n",
              "      background-color: #E2EBFA;\n",
              "      box-shadow: 0px 1px 2px rgba(60, 64, 67, 0.3), 0px 1px 3px 1px rgba(60, 64, 67, 0.15);\n",
              "      fill: #174EA6;\n",
              "    }\n",
              "\n",
              "    .colab-df-buttons div {\n",
              "      margin-bottom: 4px;\n",
              "    }\n",
              "\n",
              "    [theme=dark] .colab-df-convert {\n",
              "      background-color: #3B4455;\n",
              "      fill: #D2E3FC;\n",
              "    }\n",
              "\n",
              "    [theme=dark] .colab-df-convert:hover {\n",
              "      background-color: #434B5C;\n",
              "      box-shadow: 0px 1px 3px 1px rgba(0, 0, 0, 0.15);\n",
              "      filter: drop-shadow(0px 1px 2px rgba(0, 0, 0, 0.3));\n",
              "      fill: #FFFFFF;\n",
              "    }\n",
              "  </style>\n",
              "\n",
              "    <script>\n",
              "      const buttonEl =\n",
              "        document.querySelector('#df-50fd4eb0-2d5c-46d3-b1dc-d706e7605c21 button.colab-df-convert');\n",
              "      buttonEl.style.display =\n",
              "        google.colab.kernel.accessAllowed ? 'block' : 'none';\n",
              "\n",
              "      async function convertToInteractive(key) {\n",
              "        const element = document.querySelector('#df-50fd4eb0-2d5c-46d3-b1dc-d706e7605c21');\n",
              "        const dataTable =\n",
              "          await google.colab.kernel.invokeFunction('convertToInteractive',\n",
              "                                                    [key], {});\n",
              "        if (!dataTable) return;\n",
              "\n",
              "        const docLinkHtml = 'Like what you see? Visit the ' +\n",
              "          '<a target=\"_blank\" href=https://colab.research.google.com/notebooks/data_table.ipynb>data table notebook</a>'\n",
              "          + ' to learn more about interactive tables.';\n",
              "        element.innerHTML = '';\n",
              "        dataTable['output_type'] = 'display_data';\n",
              "        await google.colab.output.renderOutput(dataTable, element);\n",
              "        const docLink = document.createElement('div');\n",
              "        docLink.innerHTML = docLinkHtml;\n",
              "        element.appendChild(docLink);\n",
              "      }\n",
              "    </script>\n",
              "  </div>\n",
              "\n",
              "\n",
              "<div id=\"df-8b52faf0-7bbd-425f-b94a-20b8aec41f8b\">\n",
              "  <button class=\"colab-df-quickchart\" onclick=\"quickchart('df-8b52faf0-7bbd-425f-b94a-20b8aec41f8b')\"\n",
              "            title=\"Suggest charts.\"\n",
              "            style=\"display:none;\">\n",
              "\n",
              "<svg xmlns=\"http://www.w3.org/2000/svg\" height=\"24px\"viewBox=\"0 0 24 24\"\n",
              "     width=\"24px\">\n",
              "    <g>\n",
              "        <path d=\"M19 3H5c-1.1 0-2 .9-2 2v14c0 1.1.9 2 2 2h14c1.1 0 2-.9 2-2V5c0-1.1-.9-2-2-2zM9 17H7v-7h2v7zm4 0h-2V7h2v10zm4 0h-2v-4h2v4z\"/>\n",
              "    </g>\n",
              "</svg>\n",
              "  </button>\n",
              "\n",
              "<style>\n",
              "  .colab-df-quickchart {\n",
              "      --bg-color: #E8F0FE;\n",
              "      --fill-color: #1967D2;\n",
              "      --hover-bg-color: #E2EBFA;\n",
              "      --hover-fill-color: #174EA6;\n",
              "      --disabled-fill-color: #AAA;\n",
              "      --disabled-bg-color: #DDD;\n",
              "  }\n",
              "\n",
              "  [theme=dark] .colab-df-quickchart {\n",
              "      --bg-color: #3B4455;\n",
              "      --fill-color: #D2E3FC;\n",
              "      --hover-bg-color: #434B5C;\n",
              "      --hover-fill-color: #FFFFFF;\n",
              "      --disabled-bg-color: #3B4455;\n",
              "      --disabled-fill-color: #666;\n",
              "  }\n",
              "\n",
              "  .colab-df-quickchart {\n",
              "    background-color: var(--bg-color);\n",
              "    border: none;\n",
              "    border-radius: 50%;\n",
              "    cursor: pointer;\n",
              "    display: none;\n",
              "    fill: var(--fill-color);\n",
              "    height: 32px;\n",
              "    padding: 0;\n",
              "    width: 32px;\n",
              "  }\n",
              "\n",
              "  .colab-df-quickchart:hover {\n",
              "    background-color: var(--hover-bg-color);\n",
              "    box-shadow: 0 1px 2px rgba(60, 64, 67, 0.3), 0 1px 3px 1px rgba(60, 64, 67, 0.15);\n",
              "    fill: var(--button-hover-fill-color);\n",
              "  }\n",
              "\n",
              "  .colab-df-quickchart-complete:disabled,\n",
              "  .colab-df-quickchart-complete:disabled:hover {\n",
              "    background-color: var(--disabled-bg-color);\n",
              "    fill: var(--disabled-fill-color);\n",
              "    box-shadow: none;\n",
              "  }\n",
              "\n",
              "  .colab-df-spinner {\n",
              "    border: 2px solid var(--fill-color);\n",
              "    border-color: transparent;\n",
              "    border-bottom-color: var(--fill-color);\n",
              "    animation:\n",
              "      spin 1s steps(1) infinite;\n",
              "  }\n",
              "\n",
              "  @keyframes spin {\n",
              "    0% {\n",
              "      border-color: transparent;\n",
              "      border-bottom-color: var(--fill-color);\n",
              "      border-left-color: var(--fill-color);\n",
              "    }\n",
              "    20% {\n",
              "      border-color: transparent;\n",
              "      border-left-color: var(--fill-color);\n",
              "      border-top-color: var(--fill-color);\n",
              "    }\n",
              "    30% {\n",
              "      border-color: transparent;\n",
              "      border-left-color: var(--fill-color);\n",
              "      border-top-color: var(--fill-color);\n",
              "      border-right-color: var(--fill-color);\n",
              "    }\n",
              "    40% {\n",
              "      border-color: transparent;\n",
              "      border-right-color: var(--fill-color);\n",
              "      border-top-color: var(--fill-color);\n",
              "    }\n",
              "    60% {\n",
              "      border-color: transparent;\n",
              "      border-right-color: var(--fill-color);\n",
              "    }\n",
              "    80% {\n",
              "      border-color: transparent;\n",
              "      border-right-color: var(--fill-color);\n",
              "      border-bottom-color: var(--fill-color);\n",
              "    }\n",
              "    90% {\n",
              "      border-color: transparent;\n",
              "      border-bottom-color: var(--fill-color);\n",
              "    }\n",
              "  }\n",
              "</style>\n",
              "\n",
              "  <script>\n",
              "    async function quickchart(key) {\n",
              "      const quickchartButtonEl =\n",
              "        document.querySelector('#' + key + ' button');\n",
              "      quickchartButtonEl.disabled = true;  // To prevent multiple clicks.\n",
              "      quickchartButtonEl.classList.add('colab-df-spinner');\n",
              "      try {\n",
              "        const charts = await google.colab.kernel.invokeFunction(\n",
              "            'suggestCharts', [key], {});\n",
              "      } catch (error) {\n",
              "        console.error('Error during call to suggestCharts:', error);\n",
              "      }\n",
              "      quickchartButtonEl.classList.remove('colab-df-spinner');\n",
              "      quickchartButtonEl.classList.add('colab-df-quickchart-complete');\n",
              "    }\n",
              "    (() => {\n",
              "      let quickchartButtonEl =\n",
              "        document.querySelector('#df-8b52faf0-7bbd-425f-b94a-20b8aec41f8b button');\n",
              "      quickchartButtonEl.style.display =\n",
              "        google.colab.kernel.accessAllowed ? 'block' : 'none';\n",
              "    })();\n",
              "  </script>\n",
              "</div>\n",
              "    </div>\n",
              "  </div>\n"
            ]
          },
          "metadata": {},
          "execution_count": 22
        }
      ]
    },
    {
      "cell_type": "code",
      "source": [
        "NOFLAG_Africa.isnull().sum()"
      ],
      "metadata": {
        "colab": {
          "base_uri": "https://localhost:8080/"
        },
        "id": "l_7fMniLUgFe",
        "outputId": "0c4bdd04-d05c-439f-afdf-b25959106f48"
      },
      "execution_count": 25,
      "outputs": [
        {
          "output_type": "execute_result",
          "data": {
            "text/plain": [
              "Area Code          0\n",
              "Area               0\n",
              "Item Code          0\n",
              "Item               0\n",
              "Element Code       0\n",
              "Element            0\n",
              "Unit               0\n",
              "Y2014           1589\n",
              "Y2015           1548\n",
              "Y2016           1535\n",
              "Y2017           1506\n",
              "Y2018           1436\n",
              "dtype: int64"
            ]
          },
          "metadata": {},
          "execution_count": 25
        }
      ]
    },
    {
      "cell_type": "code",
      "source": [
        "NOFLAG_2014 = NOFLAG_Africa[NOFLAG_Africa['Y2014'] == 2014]"
      ],
      "metadata": {
        "id": "hle21NpbV2ea"
      },
      "execution_count": 28,
      "outputs": []
    },
    {
      "cell_type": "code",
      "source": [
        "missing_values = NOFLAG_2014.isnull().sum()"
      ],
      "metadata": {
        "id": "bNEXvG8zV3F2"
      },
      "execution_count": 40,
      "outputs": []
    },
    {
      "cell_type": "code",
      "source": [
        "all_entries = NOFLAG_2014.shape[0] * NOFLAG_2014.shape[1]"
      ],
      "metadata": {
        "id": "7IF98GBTV2zg"
      },
      "execution_count": 33,
      "outputs": []
    },
    {
      "cell_type": "code",
      "source": [],
      "metadata": {
        "id": "ObQ8kPvUV3OI"
      },
      "execution_count": null,
      "outputs": []
    },
    {
      "cell_type": "code",
      "source": [
        "unique_countries = NOFLAG_Africa['Area'].nunique()\n",
        "print(unique_countries)"
      ],
      "metadata": {
        "colab": {
          "base_uri": "https://localhost:8080/"
        },
        "id": "De5-aq9wV3W3",
        "outputId": "aa5ff907-039d-45ab-a147-625ab55bd620"
      },
      "execution_count": 47,
      "outputs": [
        {
          "output_type": "stream",
          "name": "stdout",
          "text": [
            "49\n"
          ]
        }
      ]
    },
    {
      "cell_type": "code",
      "source": [
        "protein_supply = ((NOFLAG_Africa['Area'] == 'Madagascar') & (NOFLAG_Africa['Y2015'] == 2015) & (NOFLAG_Africa['Element'] == 'Protein supply quantity (g/capita/day)')).sum()\n",
        "\n",
        "print(protein_supply)\n"
      ],
      "metadata": {
        "colab": {
          "base_uri": "https://localhost:8080/"
        },
        "id": "1wq9ZrargBqp",
        "outputId": "57ff48f9-5927-43b2-a55e-48641178c2dc"
      },
      "execution_count": 67,
      "outputs": [
        {
          "output_type": "stream",
          "name": "stdout",
          "text": [
            "0\n"
          ]
        }
      ]
    },
    {
      "cell_type": "code",
      "source": [
        "array = np.array([[94, 89, 63],\n",
        "                  [93, 92, 48],\n",
        "                  [92, 94, 56]])\n",
        "\n",
        "selected_elements = array[[0, 1, 1, 2], [0, 1, 1, 2]]\n",
        "\n",
        "print(selected_elements)"
      ],
      "metadata": {
        "colab": {
          "base_uri": "https://localhost:8080/"
        },
        "id": "td38SHzhgBz0",
        "outputId": "10d6191c-f957-48ad-ea9c-84c4f2a43745"
      },
      "execution_count": 50,
      "outputs": [
        {
          "output_type": "stream",
          "name": "stdout",
          "text": [
            "[94 92 92 56]\n"
          ]
        }
      ]
    },
    {
      "cell_type": "code",
      "source": [
        "selected_columns = NOFLAG_Africa[['Y2017', 'Area']]\n",
        "grouped = selected_columns.groupby('Area')['Y2017'].sum()\n",
        "grouped_highest_sum = grouped.idxmax()\n",
        "highest_sum = grouped.max()\n",
        "\n",
        "print(grouped_highest_sum)\n",
        "print(highest_sum)"
      ],
      "metadata": {
        "colab": {
          "base_uri": "https://localhost:8080/"
        },
        "id": "3qW_qqlXgB8H",
        "outputId": "2fe0bed0-5e52-4630-ddd7-52ddab00f272"
      },
      "execution_count": 63,
      "outputs": [
        {
          "output_type": "stream",
          "name": "stdout",
          "text": [
            "Nigeria\n",
            "1483268.23\n"
          ]
        }
      ]
    },
    {
      "cell_type": "code",
      "source": [
        "grouped = NOFLAG_Africa[NOFLAG_Africa['Element'] == 'Stock Variation'][['Y2014', 'Y2015', 'Y2016', 'Y2017', 'Y2018']].sum()\n",
        "year_highest_stock_variation = grouped.idxmax()\n",
        "highest_stock_variation = grouped.max()\n",
        "\n",
        "print(year_highest_stock_variation)\n",
        "print(highest_stock_variation)\n"
      ],
      "metadata": {
        "colab": {
          "base_uri": "https://localhost:8080/"
        },
        "id": "xbcTJR2amGb3",
        "outputId": "0a495a41-2149-44e0-c04c-19926cf9586f"
      },
      "execution_count": 70,
      "outputs": [
        {
          "output_type": "stream",
          "name": "stdout",
          "text": [
            "Y2014\n",
            "58749.83\n"
          ]
        }
      ]
    },
    {
      "cell_type": "code",
      "source": [
        "grouped = NOFLAG_Africa[NOFLAG_Africa['Element'] == 'Processing'].groupby('Element')['Y2017'].sum()\n",
        "processing_sum_2017 = grouped.get('Processing', 0)\n",
        "\n",
        "print(processing_sum_2017)\n"
      ],
      "metadata": {
        "colab": {
          "base_uri": "https://localhost:8080/"
        },
        "id": "Wy7K1CU8mHXu",
        "outputId": "6692ff6c-b0bf-4578-c5f3-0088fdd2976e"
      },
      "execution_count": 79,
      "outputs": [
        {
          "output_type": "stream",
          "name": "stdout",
          "text": [
            "292836.0\n"
          ]
        }
      ]
    },
    {
      "cell_type": "code",
      "source": [
        "wine_production = NOFLAG_Africa[(NOFLAG_Africa['Y2015'] == 2015) | (NOFLAG_Africa['Y2018'] == 2018)]\n",
        "wine_production = wine_production.groupby('Item')[''].sum()\n",
        "\n",
        "wine_2015_sum = wine_production.get('Wine', 0)\n",
        "wine_2018_sum = wine_production.get('Wine', 0)\n",
        "\n",
        "print(wine_2015_sum)\n",
        "print(wine_2018_sum)\n"
      ],
      "metadata": {
        "colab": {
          "base_uri": "https://localhost:8080/"
        },
        "id": "KdBkGr6ivS-M",
        "outputId": "06493432-dbb6-4958-cd83-52a61c004dff"
      },
      "execution_count": 85,
      "outputs": [
        {
          "output_type": "stream",
          "name": "stdout",
          "text": [
            "0\n",
            "0\n"
          ]
        }
      ]
    },
    {
      "cell_type": "code",
      "source": [
        "selected_columns = NOFLAG_Africa[['Y2017', 'Area']]\n",
        "grouped = selected_columns.groupby('Area')['Y2017'].sum()\n",
        "\n",
        "sorted_areas = grouped.sort_values(ascending=True)\n",
        "seventh_lowest_area = sorted_areas.iloc[6]\n",
        "\n",
        "print(seventh_lowest_area)\n"
      ],
      "metadata": {
        "colab": {
          "base_uri": "https://localhost:8080/"
        },
        "id": "XIq2Q2UJs4o1",
        "outputId": "cd0ec7b0-6ee7-438b-8597-8298f8fdb8f0"
      },
      "execution_count": 73,
      "outputs": [
        {
          "output_type": "stream",
          "name": "stdout",
          "text": [
            "19102.77\n"
          ]
        }
      ]
    },
    {
      "cell_type": "code",
      "source": [
        "Year_2017 = ['Y2017']\n",
        "mean_2017 = NOFLAG_Africa[Year_2017].mean().round(2)\n",
        "std_dev_2017 = NOFLAG_Africa[Year_2017].std().round(2)\n",
        "\n",
        "print(f\"Mean for the year 2017: {mean_2017.values[0]}\")\n",
        "print(f\"Standard Deviation for the year 2017: {std_dev_2017.values[0]}\")\n"
      ],
      "metadata": {
        "colab": {
          "base_uri": "https://localhost:8080/"
        },
        "id": "bcZ_lYoXvTI9",
        "outputId": "e4d70e45-d2ac-4d5d-aa87-6ffca1aacb98"
      },
      "execution_count": 88,
      "outputs": [
        {
          "output_type": "stream",
          "name": "stdout",
          "text": [
            "Mean for the year 2017: 140.92\n",
            "Standard Deviation for the year 2017: 1671.86\n"
          ]
        }
      ]
    }
  ]
}